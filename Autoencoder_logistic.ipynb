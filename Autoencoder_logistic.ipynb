{
 "cells": [
  {
   "cell_type": "code",
   "execution_count": 39,
   "metadata": {},
   "outputs": [],
   "source": [
    "import torch\n",
    "import pandas as pd\n",
    "import numpy as np\n",
    "import torch.nn as nn\n",
    "import torch.nn.functional as F\n",
    "import torch.optim as optim\n",
    "import random\n",
    "import copy\n",
    "import matplotlib.pyplot as plt\n",
    "\n",
    "from torch.utils.data import Dataset, TensorDataset, DataLoader\n",
    "from torch import sigmoid\n",
    "from sklearn import preprocessing\n",
    "from sklearn.preprocessing import MinMaxScaler\n",
    "from sklearn.model_selection import train_test_split\n",
    "from sklearn.metrics import confusion_matrix\n",
    "from sklearn.metrics import classification_report\n",
    "import torch.optim as optim\n",
    "\n",
    "from tqdm.notebook import tqdm"
   ]
  },
  {
   "cell_type": "markdown",
   "metadata": {},
   "source": [
    "## Preparing Dataset"
   ]
  },
  {
   "cell_type": "code",
   "execution_count": 40,
   "metadata": {},
   "outputs": [],
   "source": [
    "device = torch.device(\"cuda\" if torch.cuda.is_available() else \"cpu\")"
   ]
  },
  {
   "cell_type": "code",
   "execution_count": 41,
   "metadata": {},
   "outputs": [
    {
     "name": "stdout",
     "output_type": "stream",
     "text": [
      "0    284315\n",
      "1       492\n",
      "Name: Class, dtype: int64\n"
     ]
    }
   ],
   "source": [
    "# dataset loading\n",
    "card = pd.read_csv(\"creditcard.csv\", low_memory=False)\n",
    "\n",
    "# 시간 정보 활용\n",
    "card['Time'] = card['Time']%86400\n",
    "\n",
    "\n",
    "print(card.Class.value_counts())\n",
    "\n",
    "# feature / labels 분리\n",
    "features = card.iloc[:,:-1]\n",
    "labels = card.iloc[:,-1:]\n",
    "\n",
    "# train/valid/test = 6/2/2\n",
    "train_index = int(len(card) * 0.6)\n",
    "valid_index = int(len(card) * 0.8)\n",
    "X_train, y_train = features.iloc[:train_index,:], labels.iloc[:train_index,:]\n",
    "X_val, y_val = features.iloc[train_index:valid_index,:], labels.iloc[train_index:valid_index,:]\n",
    "X_test, y_test = features.iloc[valid_index:,:], labels.iloc[valid_index:,:]"
   ]
  },
  {
   "cell_type": "code",
   "execution_count": 42,
   "metadata": {},
   "outputs": [
    {
     "data": {
      "text/html": [
       "<div>\n",
       "<style scoped>\n",
       "    .dataframe tbody tr th:only-of-type {\n",
       "        vertical-align: middle;\n",
       "    }\n",
       "\n",
       "    .dataframe tbody tr th {\n",
       "        vertical-align: top;\n",
       "    }\n",
       "\n",
       "    .dataframe thead th {\n",
       "        text-align: right;\n",
       "    }\n",
       "</style>\n",
       "<table border=\"1\" class=\"dataframe\">\n",
       "  <thead>\n",
       "    <tr style=\"text-align: right;\">\n",
       "      <th></th>\n",
       "      <th>Time</th>\n",
       "      <th>V1</th>\n",
       "      <th>V2</th>\n",
       "      <th>V3</th>\n",
       "      <th>V4</th>\n",
       "      <th>V5</th>\n",
       "      <th>V6</th>\n",
       "      <th>V7</th>\n",
       "      <th>V8</th>\n",
       "      <th>V9</th>\n",
       "      <th>...</th>\n",
       "      <th>V21</th>\n",
       "      <th>V22</th>\n",
       "      <th>V23</th>\n",
       "      <th>V24</th>\n",
       "      <th>V25</th>\n",
       "      <th>V26</th>\n",
       "      <th>V27</th>\n",
       "      <th>V28</th>\n",
       "      <th>Amount</th>\n",
       "      <th>Class</th>\n",
       "    </tr>\n",
       "  </thead>\n",
       "  <tbody>\n",
       "    <tr>\n",
       "      <th>0</th>\n",
       "      <td>0.0</td>\n",
       "      <td>-1.359807</td>\n",
       "      <td>-0.072781</td>\n",
       "      <td>2.536347</td>\n",
       "      <td>1.378155</td>\n",
       "      <td>-0.338321</td>\n",
       "      <td>0.462388</td>\n",
       "      <td>0.239599</td>\n",
       "      <td>0.098698</td>\n",
       "      <td>0.363787</td>\n",
       "      <td>...</td>\n",
       "      <td>-0.018307</td>\n",
       "      <td>0.277838</td>\n",
       "      <td>-0.110474</td>\n",
       "      <td>0.066928</td>\n",
       "      <td>0.128539</td>\n",
       "      <td>-0.189115</td>\n",
       "      <td>0.133558</td>\n",
       "      <td>-0.021053</td>\n",
       "      <td>149.62</td>\n",
       "      <td>0</td>\n",
       "    </tr>\n",
       "    <tr>\n",
       "      <th>1</th>\n",
       "      <td>0.0</td>\n",
       "      <td>1.191857</td>\n",
       "      <td>0.266151</td>\n",
       "      <td>0.166480</td>\n",
       "      <td>0.448154</td>\n",
       "      <td>0.060018</td>\n",
       "      <td>-0.082361</td>\n",
       "      <td>-0.078803</td>\n",
       "      <td>0.085102</td>\n",
       "      <td>-0.255425</td>\n",
       "      <td>...</td>\n",
       "      <td>-0.225775</td>\n",
       "      <td>-0.638672</td>\n",
       "      <td>0.101288</td>\n",
       "      <td>-0.339846</td>\n",
       "      <td>0.167170</td>\n",
       "      <td>0.125895</td>\n",
       "      <td>-0.008983</td>\n",
       "      <td>0.014724</td>\n",
       "      <td>2.69</td>\n",
       "      <td>0</td>\n",
       "    </tr>\n",
       "    <tr>\n",
       "      <th>2</th>\n",
       "      <td>1.0</td>\n",
       "      <td>-1.358354</td>\n",
       "      <td>-1.340163</td>\n",
       "      <td>1.773209</td>\n",
       "      <td>0.379780</td>\n",
       "      <td>-0.503198</td>\n",
       "      <td>1.800499</td>\n",
       "      <td>0.791461</td>\n",
       "      <td>0.247676</td>\n",
       "      <td>-1.514654</td>\n",
       "      <td>...</td>\n",
       "      <td>0.247998</td>\n",
       "      <td>0.771679</td>\n",
       "      <td>0.909412</td>\n",
       "      <td>-0.689281</td>\n",
       "      <td>-0.327642</td>\n",
       "      <td>-0.139097</td>\n",
       "      <td>-0.055353</td>\n",
       "      <td>-0.059752</td>\n",
       "      <td>378.66</td>\n",
       "      <td>0</td>\n",
       "    </tr>\n",
       "    <tr>\n",
       "      <th>3</th>\n",
       "      <td>1.0</td>\n",
       "      <td>-0.966272</td>\n",
       "      <td>-0.185226</td>\n",
       "      <td>1.792993</td>\n",
       "      <td>-0.863291</td>\n",
       "      <td>-0.010309</td>\n",
       "      <td>1.247203</td>\n",
       "      <td>0.237609</td>\n",
       "      <td>0.377436</td>\n",
       "      <td>-1.387024</td>\n",
       "      <td>...</td>\n",
       "      <td>-0.108300</td>\n",
       "      <td>0.005274</td>\n",
       "      <td>-0.190321</td>\n",
       "      <td>-1.175575</td>\n",
       "      <td>0.647376</td>\n",
       "      <td>-0.221929</td>\n",
       "      <td>0.062723</td>\n",
       "      <td>0.061458</td>\n",
       "      <td>123.50</td>\n",
       "      <td>0</td>\n",
       "    </tr>\n",
       "    <tr>\n",
       "      <th>4</th>\n",
       "      <td>2.0</td>\n",
       "      <td>-1.158233</td>\n",
       "      <td>0.877737</td>\n",
       "      <td>1.548718</td>\n",
       "      <td>0.403034</td>\n",
       "      <td>-0.407193</td>\n",
       "      <td>0.095921</td>\n",
       "      <td>0.592941</td>\n",
       "      <td>-0.270533</td>\n",
       "      <td>0.817739</td>\n",
       "      <td>...</td>\n",
       "      <td>-0.009431</td>\n",
       "      <td>0.798278</td>\n",
       "      <td>-0.137458</td>\n",
       "      <td>0.141267</td>\n",
       "      <td>-0.206010</td>\n",
       "      <td>0.502292</td>\n",
       "      <td>0.219422</td>\n",
       "      <td>0.215153</td>\n",
       "      <td>69.99</td>\n",
       "      <td>0</td>\n",
       "    </tr>\n",
       "    <tr>\n",
       "      <th>...</th>\n",
       "      <td>...</td>\n",
       "      <td>...</td>\n",
       "      <td>...</td>\n",
       "      <td>...</td>\n",
       "      <td>...</td>\n",
       "      <td>...</td>\n",
       "      <td>...</td>\n",
       "      <td>...</td>\n",
       "      <td>...</td>\n",
       "      <td>...</td>\n",
       "      <td>...</td>\n",
       "      <td>...</td>\n",
       "      <td>...</td>\n",
       "      <td>...</td>\n",
       "      <td>...</td>\n",
       "      <td>...</td>\n",
       "      <td>...</td>\n",
       "      <td>...</td>\n",
       "      <td>...</td>\n",
       "      <td>...</td>\n",
       "      <td>...</td>\n",
       "    </tr>\n",
       "    <tr>\n",
       "      <th>284802</th>\n",
       "      <td>86386.0</td>\n",
       "      <td>-11.881118</td>\n",
       "      <td>10.071785</td>\n",
       "      <td>-9.834783</td>\n",
       "      <td>-2.066656</td>\n",
       "      <td>-5.364473</td>\n",
       "      <td>-2.606837</td>\n",
       "      <td>-4.918215</td>\n",
       "      <td>7.305334</td>\n",
       "      <td>1.914428</td>\n",
       "      <td>...</td>\n",
       "      <td>0.213454</td>\n",
       "      <td>0.111864</td>\n",
       "      <td>1.014480</td>\n",
       "      <td>-0.509348</td>\n",
       "      <td>1.436807</td>\n",
       "      <td>0.250034</td>\n",
       "      <td>0.943651</td>\n",
       "      <td>0.823731</td>\n",
       "      <td>0.77</td>\n",
       "      <td>0</td>\n",
       "    </tr>\n",
       "    <tr>\n",
       "      <th>284803</th>\n",
       "      <td>86387.0</td>\n",
       "      <td>-0.732789</td>\n",
       "      <td>-0.055080</td>\n",
       "      <td>2.035030</td>\n",
       "      <td>-0.738589</td>\n",
       "      <td>0.868229</td>\n",
       "      <td>1.058415</td>\n",
       "      <td>0.024330</td>\n",
       "      <td>0.294869</td>\n",
       "      <td>0.584800</td>\n",
       "      <td>...</td>\n",
       "      <td>0.214205</td>\n",
       "      <td>0.924384</td>\n",
       "      <td>0.012463</td>\n",
       "      <td>-1.016226</td>\n",
       "      <td>-0.606624</td>\n",
       "      <td>-0.395255</td>\n",
       "      <td>0.068472</td>\n",
       "      <td>-0.053527</td>\n",
       "      <td>24.79</td>\n",
       "      <td>0</td>\n",
       "    </tr>\n",
       "    <tr>\n",
       "      <th>284804</th>\n",
       "      <td>86388.0</td>\n",
       "      <td>1.919565</td>\n",
       "      <td>-0.301254</td>\n",
       "      <td>-3.249640</td>\n",
       "      <td>-0.557828</td>\n",
       "      <td>2.630515</td>\n",
       "      <td>3.031260</td>\n",
       "      <td>-0.296827</td>\n",
       "      <td>0.708417</td>\n",
       "      <td>0.432454</td>\n",
       "      <td>...</td>\n",
       "      <td>0.232045</td>\n",
       "      <td>0.578229</td>\n",
       "      <td>-0.037501</td>\n",
       "      <td>0.640134</td>\n",
       "      <td>0.265745</td>\n",
       "      <td>-0.087371</td>\n",
       "      <td>0.004455</td>\n",
       "      <td>-0.026561</td>\n",
       "      <td>67.88</td>\n",
       "      <td>0</td>\n",
       "    </tr>\n",
       "    <tr>\n",
       "      <th>284805</th>\n",
       "      <td>86388.0</td>\n",
       "      <td>-0.240440</td>\n",
       "      <td>0.530483</td>\n",
       "      <td>0.702510</td>\n",
       "      <td>0.689799</td>\n",
       "      <td>-0.377961</td>\n",
       "      <td>0.623708</td>\n",
       "      <td>-0.686180</td>\n",
       "      <td>0.679145</td>\n",
       "      <td>0.392087</td>\n",
       "      <td>...</td>\n",
       "      <td>0.265245</td>\n",
       "      <td>0.800049</td>\n",
       "      <td>-0.163298</td>\n",
       "      <td>0.123205</td>\n",
       "      <td>-0.569159</td>\n",
       "      <td>0.546668</td>\n",
       "      <td>0.108821</td>\n",
       "      <td>0.104533</td>\n",
       "      <td>10.00</td>\n",
       "      <td>0</td>\n",
       "    </tr>\n",
       "    <tr>\n",
       "      <th>284806</th>\n",
       "      <td>86392.0</td>\n",
       "      <td>-0.533413</td>\n",
       "      <td>-0.189733</td>\n",
       "      <td>0.703337</td>\n",
       "      <td>-0.506271</td>\n",
       "      <td>-0.012546</td>\n",
       "      <td>-0.649617</td>\n",
       "      <td>1.577006</td>\n",
       "      <td>-0.414650</td>\n",
       "      <td>0.486180</td>\n",
       "      <td>...</td>\n",
       "      <td>0.261057</td>\n",
       "      <td>0.643078</td>\n",
       "      <td>0.376777</td>\n",
       "      <td>0.008797</td>\n",
       "      <td>-0.473649</td>\n",
       "      <td>-0.818267</td>\n",
       "      <td>-0.002415</td>\n",
       "      <td>0.013649</td>\n",
       "      <td>217.00</td>\n",
       "      <td>0</td>\n",
       "    </tr>\n",
       "  </tbody>\n",
       "</table>\n",
       "<p>284807 rows × 31 columns</p>\n",
       "</div>"
      ],
      "text/plain": [
       "           Time         V1         V2        V3        V4        V5        V6  \\\n",
       "0           0.0  -1.359807  -0.072781  2.536347  1.378155 -0.338321  0.462388   \n",
       "1           0.0   1.191857   0.266151  0.166480  0.448154  0.060018 -0.082361   \n",
       "2           1.0  -1.358354  -1.340163  1.773209  0.379780 -0.503198  1.800499   \n",
       "3           1.0  -0.966272  -0.185226  1.792993 -0.863291 -0.010309  1.247203   \n",
       "4           2.0  -1.158233   0.877737  1.548718  0.403034 -0.407193  0.095921   \n",
       "...         ...        ...        ...       ...       ...       ...       ...   \n",
       "284802  86386.0 -11.881118  10.071785 -9.834783 -2.066656 -5.364473 -2.606837   \n",
       "284803  86387.0  -0.732789  -0.055080  2.035030 -0.738589  0.868229  1.058415   \n",
       "284804  86388.0   1.919565  -0.301254 -3.249640 -0.557828  2.630515  3.031260   \n",
       "284805  86388.0  -0.240440   0.530483  0.702510  0.689799 -0.377961  0.623708   \n",
       "284806  86392.0  -0.533413  -0.189733  0.703337 -0.506271 -0.012546 -0.649617   \n",
       "\n",
       "              V7        V8        V9  ...       V21       V22       V23  \\\n",
       "0       0.239599  0.098698  0.363787  ... -0.018307  0.277838 -0.110474   \n",
       "1      -0.078803  0.085102 -0.255425  ... -0.225775 -0.638672  0.101288   \n",
       "2       0.791461  0.247676 -1.514654  ...  0.247998  0.771679  0.909412   \n",
       "3       0.237609  0.377436 -1.387024  ... -0.108300  0.005274 -0.190321   \n",
       "4       0.592941 -0.270533  0.817739  ... -0.009431  0.798278 -0.137458   \n",
       "...          ...       ...       ...  ...       ...       ...       ...   \n",
       "284802 -4.918215  7.305334  1.914428  ...  0.213454  0.111864  1.014480   \n",
       "284803  0.024330  0.294869  0.584800  ...  0.214205  0.924384  0.012463   \n",
       "284804 -0.296827  0.708417  0.432454  ...  0.232045  0.578229 -0.037501   \n",
       "284805 -0.686180  0.679145  0.392087  ...  0.265245  0.800049 -0.163298   \n",
       "284806  1.577006 -0.414650  0.486180  ...  0.261057  0.643078  0.376777   \n",
       "\n",
       "             V24       V25       V26       V27       V28  Amount  Class  \n",
       "0       0.066928  0.128539 -0.189115  0.133558 -0.021053  149.62      0  \n",
       "1      -0.339846  0.167170  0.125895 -0.008983  0.014724    2.69      0  \n",
       "2      -0.689281 -0.327642 -0.139097 -0.055353 -0.059752  378.66      0  \n",
       "3      -1.175575  0.647376 -0.221929  0.062723  0.061458  123.50      0  \n",
       "4       0.141267 -0.206010  0.502292  0.219422  0.215153   69.99      0  \n",
       "...          ...       ...       ...       ...       ...     ...    ...  \n",
       "284802 -0.509348  1.436807  0.250034  0.943651  0.823731    0.77      0  \n",
       "284803 -1.016226 -0.606624 -0.395255  0.068472 -0.053527   24.79      0  \n",
       "284804  0.640134  0.265745 -0.087371  0.004455 -0.026561   67.88      0  \n",
       "284805  0.123205 -0.569159  0.546668  0.108821  0.104533   10.00      0  \n",
       "284806  0.008797 -0.473649 -0.818267 -0.002415  0.013649  217.00      0  \n",
       "\n",
       "[284807 rows x 31 columns]"
      ]
     },
     "execution_count": 42,
     "metadata": {},
     "output_type": "execute_result"
    }
   ],
   "source": [
    "card"
   ]
  },
  {
   "cell_type": "code",
   "execution_count": 43,
   "metadata": {},
   "outputs": [],
   "source": [
    "# 정상데이터로만 학습하기 위해 trainset의 anomaly data 제외\n",
    "anomaly_idx = y_train[y_train['Class'] == 1].index\n",
    "X_train = X_train.drop(anomaly_idx)\n",
    "y_train = y_train.drop(anomaly_idx)"
   ]
  },
  {
   "cell_type": "code",
   "execution_count": 44,
   "metadata": {},
   "outputs": [],
   "source": [
    "# minmaxscaler 사용\n",
    "scaler = MinMaxScaler().fit(X_train)\n",
    "X_train = scaler.transform(X_train)\n",
    "X_val = scaler.transform(X_val)\n",
    "X_test = scaler.transform(X_test)\n",
    "\n",
    "# dataloader 사용\n",
    "X_train = torch.from_numpy(X_train).float()\n",
    "y_train = torch.from_numpy(y_train.values).float()\n",
    "X_val = torch.from_numpy(X_val).float()\n",
    "y_val = torch.from_numpy(y_val.values).float()\n",
    "X_test = torch.from_numpy(X_test).float()\n",
    "y_test = torch.from_numpy(y_test.values).float()\n",
    "\n",
    "train = TensorDataset(X_train, y_train)\n",
    "val = TensorDataset(X_val, y_val)\n",
    "test = TensorDataset(X_test, y_test)\n",
    "\n",
    "train_loader = DataLoader(train, batch_size=256, shuffle=True)\n",
    "val_loader = DataLoader(val, batch_size=256, shuffle=True)\n",
    "test_loader = DataLoader(test, batch_size=256, shuffle=True)"
   ]
  },
  {
   "cell_type": "markdown",
   "metadata": {},
   "source": [
    "## Model"
   ]
  },
  {
   "cell_type": "code",
   "execution_count": 46,
   "metadata": {},
   "outputs": [],
   "source": [
    "# PARAMETER / HYPERPARAMETER\n",
    "\n",
    "n_features = 30\n",
    "num_epochs = 100\n",
    "learning_rate = 0.005"
   ]
  },
  {
   "cell_type": "code",
   "execution_count": 47,
   "metadata": {},
   "outputs": [],
   "source": [
    "# Autoencoder 모델 구현\n",
    "\n",
    "# encoder 구현\n",
    "class Encoder(nn.Module):\n",
    "  def __init__(self, n_features):\n",
    "    super(Encoder, self).__init__()\n",
    "\n",
    "    self.n_features = n_features\n",
    "    \n",
    "    self.encoder = nn.Sequential(\n",
    "        nn.Linear(n_features, 100),\n",
    "        nn.ReLU(),\n",
    "        nn.Linear(100, 70),\n",
    "        nn.ReLU(),\n",
    "        nn.Linear(70, 40),\n",
    "        # nn.ReLU(),\n",
    "        # nn.Linear(4, 2),\n",
    "    )\n",
    "\n",
    "  def forward(self, x):\n",
    "\n",
    "    return self.encoder(x)\n",
    "\n",
    "# decoder 구현\n",
    "class Decoder(nn.Module):\n",
    "\n",
    "  def __init__(self, n_features):\n",
    "    super(Decoder, self).__init__()\n",
    "\n",
    "    self.n_features = n_features\n",
    "    \n",
    "    self.decoder = nn.Sequential(\n",
    "        nn.Linear(40, 40),\n",
    "        nn.ReLU(),\n",
    "        nn.Linear(40, 70),\n",
    "        nn.ReLU(),\n",
    "        nn.Linear(70, 100),\n",
    "        nn.ReLU(),\n",
    "        nn.Linear(100, n_features)\n",
    "    )\n",
    "\n",
    "  def forward(self, x):\n",
    "\n",
    "    return self.decoder(x)\n",
    "class Autoencoder(nn.Module): \n",
    "\n",
    "  def __init__(self, n_features):\n",
    "    super(Autoencoder, self).__init__()\n",
    "\n",
    "    self.encoder = Encoder(n_features)\n",
    "    self.decoder = Decoder(n_features)\n",
    "\n",
    "  def forward(self, x):\n",
    "    x = self.encoder(x)\n",
    "    x = self.decoder(x)\n",
    "\n",
    "    return x\n"
   ]
  },
  {
   "cell_type": "code",
   "execution_count": 48,
   "metadata": {},
   "outputs": [],
   "source": [
    "model = Autoencoder(n_features)\n",
    "# model = model.to(device)"
   ]
  },
  {
   "cell_type": "code",
   "execution_count": 49,
   "metadata": {},
   "outputs": [],
   "source": [
    "# FNN-defalut 학습/평가\n",
    "def train_model(model, train_dataset, val_dataset, n_epochs):\n",
    "    latent_space = []\n",
    "    optimizer = torch.optim.Adam(model.parameters(), lr=learning_rate)\n",
    "    criterion = nn.MSELoss(reduction='sum')#.to(device)\n",
    "    history = dict(train=[], val=[]) \n",
    "\n",
    "    best_model_wts = copy.deepcopy(model.state_dict()) \n",
    "    best_loss = 10000.0\n",
    "  \n",
    "    for epoch in range(1, n_epochs + 1):\n",
    "        model.train()\n",
    "\n",
    "        train_losses = []\n",
    "        for data, target in train_dataset: \n",
    "            optimizer.zero_grad()\n",
    "\n",
    "            # data = data.to(device)\n",
    "            # target = target.to(device)\n",
    "            seq_pred = model(data)\n",
    "            # print(seq_pred.shape) # (32, 29)\n",
    "            loss = criterion(seq_pred, data)\n",
    "            # print(loss)\n",
    "            loss.backward() \n",
    "            optimizer.step() \n",
    "\n",
    "            train_losses.append(loss.item()) \n",
    "            \n",
    "        val_losses = []\n",
    "\n",
    "        model.eval() \n",
    "        with torch.no_grad():\n",
    "            for data, target in val_dataset:\n",
    "\n",
    "                # data = data.to(device)\n",
    "                # target = target.to(device)\n",
    "                seq_pred = model(data) \n",
    "\n",
    "                loss = criterion(seq_pred, data)\n",
    "                val_losses.append(loss.item()) \n",
    "                # if epoch == n_epochs :\n",
    "                #     latent_space.append(latent)\n",
    "\n",
    "\n",
    "        train_loss = np.mean(train_losses) \n",
    "        val_loss = np.mean(val_losses)\n",
    "\n",
    "        history['train'].append(train_loss)\n",
    "        history['val'].append(val_loss)\n",
    "\n",
    "        if val_loss < best_loss:\n",
    "            best_loss = val_loss\n",
    "            best_model_wts = copy.deepcopy(model.state_dict())\n",
    "\n",
    "            \n",
    "        print(f'Epoch {epoch}: train loss {train_loss/len(train_dataset)} val loss {val_loss/len(val_dataset)}')\n",
    "\n",
    "    model.load_state_dict(best_model_wts)\n",
    "    return model, history"
   ]
  },
  {
   "cell_type": "code",
   "execution_count": 50,
   "metadata": {},
   "outputs": [
    {
     "name": "stdout",
     "output_type": "stream",
     "text": [
      "Epoch 1: train loss 0.06818511751358973 val loss 0.07918931204356618\n",
      "Epoch 2: train loss 0.023532615891408912 val loss 0.07312828947584016\n",
      "Epoch 3: train loss 0.020828388482445774 val loss 0.059978735641341104\n",
      "Epoch 4: train loss 0.01343055746305591 val loss 0.045499702852810624\n",
      "Epoch 5: train loss 0.010415681559646235 val loss 0.03669310711120005\n",
      "Epoch 6: train loss 0.008087943192728899 val loss 0.030235158011316352\n",
      "Epoch 7: train loss 0.006799401063765734 val loss 0.034910364425621745\n",
      "Epoch 8: train loss 0.006662002909673829 val loss 0.0321519879117881\n",
      "Epoch 9: train loss 0.005849590813268842 val loss 0.03286257035440437\n",
      "Epoch 10: train loss 0.004598297040397848 val loss 0.021629787718269997\n",
      "Epoch 11: train loss 0.00398116050776664 val loss 0.018502453678097122\n",
      "Epoch 12: train loss 0.003785742339569745 val loss 0.0215081590235817\n",
      "Epoch 13: train loss 0.00356843945360238 val loss 0.018301075023457892\n",
      "Epoch 14: train loss 0.0032672643514258916 val loss 0.01822383337999498\n",
      "Epoch 15: train loss 0.0029889317904861676 val loss 0.02752159680704403\n",
      "Epoch 16: train loss 0.0040775826973740385 val loss 0.015700064168770997\n",
      "Epoch 17: train loss 0.0027936463912339162 val loss 0.022416773273707585\n",
      "Epoch 18: train loss 0.0025531499793829517 val loss 0.014312810005501424\n",
      "Epoch 19: train loss 0.002343242579517145 val loss 0.021526197777399673\n",
      "Epoch 20: train loss 0.0026064683955630452 val loss 0.013017210267315936\n",
      "Epoch 21: train loss 0.0022085977027120783 val loss 0.026582707338333705\n",
      "Epoch 22: train loss 0.0022600557405908247 val loss 0.018573301229066724\n",
      "Epoch 23: train loss 0.0019691798327778304 val loss 0.01287060179805604\n",
      "Epoch 24: train loss 0.002021360263268643 val loss 0.020515868165606205\n",
      "Epoch 25: train loss 0.0019112007637320755 val loss 0.014986606523894696\n",
      "Epoch 26: train loss 0.0021802052057695426 val loss 0.012425515177972465\n",
      "Epoch 27: train loss 0.0019911307576023197 val loss 0.013207565841823622\n",
      "Epoch 28: train loss 0.0017272527744877399 val loss 0.012418358394373727\n",
      "Epoch 29: train loss 0.0016839475810467915 val loss 0.010870439323204062\n",
      "Epoch 30: train loss 0.0015880081627825942 val loss 0.011478806113000105\n",
      "Epoch 31: train loss 0.0016485100843074147 val loss 0.010055239286075428\n",
      "Epoch 32: train loss 0.0014904882020218581 val loss 0.010051295802792149\n",
      "Epoch 33: train loss 0.0015200210465745904 val loss 0.009867503245152202\n",
      "Epoch 34: train loss 0.0014080042880934007 val loss 0.012691218608149014\n",
      "Epoch 35: train loss 0.0014021173025594003 val loss 0.01687631384789274\n",
      "Epoch 36: train loss 0.0013993398140215087 val loss 0.01132846161707855\n",
      "Epoch 37: train loss 0.0013598621311017786 val loss 0.008793495577026859\n",
      "Epoch 38: train loss 0.0012160430806553322 val loss 0.009389584942666014\n",
      "Epoch 39: train loss 0.00125365078103858 val loss 0.00873727780746765\n",
      "Epoch 40: train loss 0.001227583603058918 val loss 0.008708215087760679\n",
      "Epoch 41: train loss 0.0011296814951415178 val loss 0.00839589752805075\n",
      "Epoch 42: train loss 0.0013119362540537436 val loss 0.008397952373877984\n",
      "Epoch 43: train loss 0.0011350888690494435 val loss 0.009083874546263051\n",
      "Epoch 44: train loss 0.0011176922077554803 val loss 0.00874287332429199\n",
      "Epoch 45: train loss 0.001089336038290412 val loss 0.007239233903559446\n",
      "Epoch 46: train loss 0.0011086644918587517 val loss 0.0056290447948066655\n",
      "Epoch 47: train loss 0.0009572500514666178 val loss 0.0087207948548571\n",
      "Epoch 48: train loss 0.0009832149375879951 val loss 0.0056658543276421\n",
      "Epoch 49: train loss 0.001004164195222922 val loss 0.005512662325262287\n",
      "Epoch 50: train loss 0.0009798259295292241 val loss 0.006381399315695949\n",
      "Epoch 51: train loss 0.0009391993135880049 val loss 0.005712873160835485\n",
      "Epoch 52: train loss 0.0010179575922454123 val loss 0.01234741922563909\n",
      "Epoch 53: train loss 0.0009991920715160898 val loss 0.022693569712109653\n",
      "Epoch 54: train loss 0.0011752888963078528 val loss 0.005428166512824137\n",
      "Epoch 55: train loss 0.0008683398455336713 val loss 0.005114417163344166\n",
      "Epoch 56: train loss 0.0008976159607126779 val loss 0.010230161135022507\n",
      "Epoch 57: train loss 0.0008757298286199109 val loss 0.0061488371023970395\n",
      "Epoch 58: train loss 0.0009136089836270113 val loss 0.006985455402030301\n",
      "Epoch 59: train loss 0.0008452574102436353 val loss 0.006730408823040193\n",
      "Epoch 60: train loss 0.0009497362677516949 val loss 0.008564332605988005\n",
      "Epoch 61: train loss 0.0011785628638628846 val loss 0.006966882446572658\n",
      "Epoch 62: train loss 0.000771707829485489 val loss 0.005168770856938228\n",
      "Epoch 63: train loss 0.0007932680069878667 val loss 0.007070126497358849\n",
      "Epoch 64: train loss 0.000864262717912064 val loss 0.007050262644499527\n",
      "Epoch 65: train loss 0.0007961537802674696 val loss 0.008334425656219075\n",
      "Epoch 66: train loss 0.0013552512729249316 val loss 0.008507823331133256\n",
      "Epoch 67: train loss 0.000719698361884451 val loss 0.006011347356314643\n",
      "Epoch 68: train loss 0.0007792700164434066 val loss 0.006914887042050292\n",
      "Epoch 69: train loss 0.0008182984020755388 val loss 0.007326175650709555\n",
      "Epoch 70: train loss 0.0008159801330953309 val loss 0.01003235516569923\n",
      "Epoch 71: train loss 0.0008095076482079146 val loss 0.00592872732286707\n",
      "Epoch 72: train loss 0.0007981680974239448 val loss 0.006216712419313933\n",
      "Epoch 73: train loss 0.0008499010931132115 val loss 0.004987399395045933\n",
      "Epoch 74: train loss 0.000758655332287524 val loss 0.005617273913643932\n",
      "Epoch 75: train loss 0.0007776111426362222 val loss 0.006277203007325844\n",
      "Epoch 76: train loss 0.0007554321690928853 val loss 0.006238386772397551\n",
      "Epoch 77: train loss 0.0007468844802413064 val loss 0.00638695709134201\n",
      "Epoch 78: train loss 0.0007444989174488057 val loss 0.004825822931255652\n",
      "Epoch 79: train loss 0.0007401650443679263 val loss 0.0074030485218209725\n",
      "Epoch 80: train loss 0.0008951218596364252 val loss 0.006106862699861571\n",
      "Epoch 81: train loss 0.0007340910372181358 val loss 0.0066297047590657575\n",
      "Epoch 82: train loss 0.0007456494304712083 val loss 0.008087926577940652\n",
      "Epoch 83: train loss 0.0007679429661386554 val loss 0.006342560168535566\n",
      "Epoch 84: train loss 0.00077176795489669 val loss 0.007085299866561323\n",
      "Epoch 85: train loss 0.0007202947140329487 val loss 0.009173395174446054\n",
      "Epoch 86: train loss 0.0008042839747402937 val loss 0.012540137008605318\n",
      "Epoch 87: train loss 0.0007388689335872735 val loss 0.0046664209744503036\n",
      "Epoch 88: train loss 0.0007177378883774228 val loss 0.0058676894374293485\n",
      "Epoch 89: train loss 0.0007421080377175162 val loss 0.00516823150076549\n",
      "Epoch 90: train loss 0.0006953813665751961 val loss 0.011269570135303632\n",
      "Epoch 91: train loss 0.000791731276428684 val loss 0.006575502823650898\n",
      "Epoch 92: train loss 0.0011905595578266316 val loss 0.0075013561384363716\n",
      "Epoch 93: train loss 0.0007672938229684854 val loss 0.00606998277268094\n",
      "Epoch 94: train loss 0.0007125758129314254 val loss 0.007048005883128776\n",
      "Epoch 95: train loss 0.0007577295998296602 val loss 0.00547728528876526\n",
      "Epoch 96: train loss 0.0006783583354466993 val loss 0.005028079130017239\n",
      "Epoch 97: train loss 0.0007387524555958731 val loss 0.005044032081444141\n",
      "Epoch 98: train loss 0.0009918884650508867 val loss 0.009135885755383258\n",
      "Epoch 99: train loss 0.0006381070533572353 val loss 0.004323361587758379\n",
      "Epoch 100: train loss 0.0006546064239933391 val loss 0.004048785885928582\n"
     ]
    }
   ],
   "source": [
    "model, history= train_model(\n",
    "  model, \n",
    "  train_loader, \n",
    "  val_loader, \n",
    "  num_epochs\n",
    ")"
   ]
  },
  {
   "cell_type": "markdown",
   "metadata": {},
   "source": [
    "### training loss"
   ]
  },
  {
   "cell_type": "code",
   "execution_count": 51,
   "metadata": {},
   "outputs": [
    {
     "data": {
      "text/plain": [
       "[<matplotlib.lines.Line2D at 0x7f17c96ffc10>]"
      ]
     },
     "execution_count": 51,
     "metadata": {},
     "output_type": "execute_result"
    },
    {
     "data": {
      "image/png": "[encoded data removed]",
      "text/plain": [
       "<Figure size 432x288 with 1 Axes>"
      ]
     },
     "metadata": {
      "needs_background": "light"
     },
     "output_type": "display_data"
    }
   ],
   "source": [
    "plt.plot(history['train'])"
   ]
  },
  {
   "cell_type": "markdown",
   "metadata": {},
   "source": [
    "# test set 평가 : reconstruction error, confusion matrix, f1-score, PR-AUC"
   ]
  },
  {
   "cell_type": "code",
   "execution_count": 52,
   "metadata": {},
   "outputs": [],
   "source": [
    "# testset 모델에 넣어 예측\n",
    "def test(model, test_loader):\n",
    "    criterion = nn.MSELoss(reduction='none').to(device)\n",
    "\n",
    "    test_loss = []\n",
    "    input_ =[]\n",
    "    output_ = []\n",
    "    # latent_ = []\n",
    "    real_ = []\n",
    "    model.eval()\n",
    "    with torch.no_grad():\n",
    "        for data, target in test_loader:\n",
    "            # seq_true = data.to(device)\n",
    "            # seq_true = seq_true.float()\n",
    "            seq_pred = model(data)  # seq_true is the test dataset\n",
    "            loss = criterion(\n",
    "                    seq_pred, data\n",
    "                )\n",
    "            # # print(loss)\n",
    "            # print(loss.shape) # (32, 29)\n",
    "            # t_loss = loss\n",
    "            # print(t_loss.shape) # 32\n",
    "            test_loss.append(loss)\n",
    "            input_.append(data)\n",
    "            output_.append(seq_pred)\n",
    "            # latent_.append(latent)\n",
    "            real_.append(target)\n",
    "            # print(test_loss)\n",
    "\n",
    "        return input_, output_, real_, test_loss\n",
    "            "
   ]
  },
  {
   "cell_type": "code",
   "execution_count": 53,
   "metadata": {},
   "outputs": [],
   "source": [
    "input_,output_,real_,loss_ = test(model, test_loader)"
   ]
  },
  {
   "cell_type": "markdown",
   "metadata": {},
   "source": [
    "### plot reconstruction error"
   ]
  },
  {
   "cell_type": "code",
   "execution_count": 54,
   "metadata": {},
   "outputs": [],
   "source": [
    "input_\n",
    "input_1 = np.array([a.cpu().numpy().tolist() for b in input_ for a in b])\n",
    "output_1 = np.array([a.cpu().numpy().tolist() for b in output_ for a in b])\n",
    "real_1 = np.array([a.cpu().numpy().tolist() for b in real_ for a in b])\n",
    "loss_1 = np.array([a.cpu().numpy().tolist() for b in loss_ for a in b])"
   ]
  },
  {
   "cell_type": "code",
   "execution_count": 55,
   "metadata": {},
   "outputs": [
    {
     "data": {
      "image/png": "[encoded data removed]",
      "text/plain": [
       "<Figure size 432x432 with 1 Axes>"
      ]
     },
     "metadata": {
      "needs_background": "light"
     },
     "output_type": "display_data"
    }
   ],
   "source": [
    "# reconstruction error 확인 및 throshold 파악\n",
    "import matplotlib.pyplot as plt\n",
    "\n",
    "mse = np.mean(np.power(input_1-output_1, 2), axis=1)\n",
    "mse_df = pd.DataFrame(mse, columns=['loss'])\n",
    "clean = mse_df[real_1==0]\n",
    "fraud = mse_df[real_1==1]\n",
    "fig, ax = plt.subplots(figsize=(6,6))\n",
    "\n",
    "ax.hist(clean.values, bins=1000, density=True, label=\"clean\", alpha=.6, color=\"green\")\n",
    "ax.hist(fraud.values, bins=1000, density=True, label=\"fraud\", alpha=.6, color=\"red\")\n",
    "\n",
    "plt.title(\"(Normalized) Distribution of the Reconstruction Loss\")\n",
    "plt.xlim([0,0.01])\n",
    "# plt.ylim([50,500])\n",
    "plt.legend()\n",
    "plt.show()\n"
   ]
  },
  {
   "cell_type": "markdown",
   "metadata": {},
   "source": [
    "### confusion matrix"
   ]
  },
  {
   "cell_type": "code",
   "execution_count": 56,
   "metadata": {},
   "outputs": [],
   "source": [
    "# 위에서 확인한 reconstruction error 기반 threshold 지정\n",
    "threshold = 0.001\n",
    "\n",
    "fraud_index = mse_df.loc[mse_df.loss > threshold].index\n",
    "result_df = pd.DataFrame(real_1, columns=['result']).loc[fraud_index]\n",
    "result_df.result.value_counts()\n",
    "\n",
    "real_1_df = pd.DataFrame(real_1, columns=['result'])\n",
    "real_1_df.result.value_counts()\n",
    "\n",
    "pred = [1 if i > threshold else 0 for i in mse_df.loss]"
   ]
  },
  {
   "cell_type": "code",
   "execution_count": 94,
   "metadata": {},
   "outputs": [
    {
     "data": {
      "text/plain": [
       "array([[56577,   310],\n",
       "       [   19,    56]])"
      ]
     },
     "execution_count": 94,
     "metadata": {},
     "output_type": "execute_result"
    }
   ],
   "source": [
    "# confusion matrix 확인\n",
    "confusion_matrix(real_1,pred)"
   ]
  },
  {
   "cell_type": "code",
   "execution_count": 95,
   "metadata": {},
   "outputs": [
    {
     "name": "stdout",
     "output_type": "stream",
     "text": [
      "              precision    recall  f1-score   support\n",
      "\n",
      "         0.0       1.00      0.99      1.00     56887\n",
      "         1.0       0.15      0.75      0.25        75\n",
      "\n",
      "    accuracy                           0.99     56962\n",
      "   macro avg       0.58      0.87      0.63     56962\n",
      "weighted avg       1.00      0.99      1.00     56962\n",
      "\n"
     ]
    }
   ],
   "source": [
    "# f1 score 및 기타 지표 확인\n",
    "print(classification_report(real_1,pred))"
   ]
  },
  {
   "cell_type": "markdown",
   "metadata": {},
   "source": [
    "### PR-AUC curve"
   ]
  },
  {
   "cell_type": "code",
   "execution_count": 58,
   "metadata": {},
   "outputs": [],
   "source": [
    "# PR-AUC curve 확인\n",
    "from sklearn.metrics import precision_recall_curve, average_precision_score \n",
    "def pr_auc(target, losses):\n",
    "\n",
    "    precision, recalls, threshold = precision_recall_curve(target, losses) # _ = threshold\n",
    "    average_precision = average_precision_score(target, losses)\n",
    "    # print(precision)\n",
    "    # print(recalls)\n",
    "    # print(threshold)\n",
    "    print(\"Average precision-recall score: {0:.4f} \".format(average_precision))\n",
    "\n",
    "    # plot\n",
    "    plt.figure(figsize=(10, 5))\n",
    "    plt.plot(recalls, precision, label=\"precision & recall\")\n",
    "    plt.xlabel(\"recall\")\n",
    "    plt.ylabel(\"precision\")\n",
    "    plt.legend()\n",
    "    plt.grid()\n",
    "    plt.show()"
   ]
  },
  {
   "cell_type": "code",
   "execution_count": 59,
   "metadata": {},
   "outputs": [
    {
     "data": {
      "text/plain": [
       "(56962,)"
      ]
     },
     "execution_count": 59,
     "metadata": {},
     "output_type": "execute_result"
    }
   ],
   "source": [
    "reconst_error = np.mean(loss_1,axis=1)\n",
    "reconst_error.shape"
   ]
  },
  {
   "cell_type": "code",
   "execution_count": 60,
   "metadata": {},
   "outputs": [
    {
     "data": {
      "text/plain": [
       "array([[3.41823412e-04, 9.73815168e-06, 8.26011274e-07, ...,\n",
       "        2.15305499e-05, 3.33129537e-06, 6.70601457e-06],\n",
       "       [3.79623292e-04, 5.19784226e-06, 3.36543349e-06, ...,\n",
       "        7.21888637e-06, 9.92834543e-07, 2.53127882e-06],\n",
       "       [3.43281805e-04, 2.26283591e-05, 9.29867952e-08, ...,\n",
       "        1.03106586e-05, 8.72420628e-07, 5.17419767e-06],\n",
       "       ...,\n",
       "       [2.05366829e-04, 1.27493004e-05, 3.96089241e-08, ...,\n",
       "        5.87683426e-05, 4.20511697e-07, 1.30275589e-06],\n",
       "       [1.92790510e-04, 6.40718063e-05, 2.27714864e-07, ...,\n",
       "        1.38303119e-04, 4.94550569e-08, 6.92637343e-07],\n",
       "       [3.20315768e-04, 1.64245575e-04, 2.58832097e-05, ...,\n",
       "        3.37106627e-07, 1.52250477e-05, 1.57422292e-05]])"
      ]
     },
     "execution_count": 60,
     "metadata": {},
     "output_type": "execute_result"
    }
   ],
   "source": [
    "loss_1"
   ]
  },
  {
   "cell_type": "code",
   "execution_count": 61,
   "metadata": {},
   "outputs": [
    {
     "data": {
      "text/plain": [
       "(56962, 1)"
      ]
     },
     "execution_count": 61,
     "metadata": {},
     "output_type": "execute_result"
    }
   ],
   "source": [
    "real_1.shape"
   ]
  },
  {
   "cell_type": "code",
   "execution_count": 62,
   "metadata": {},
   "outputs": [
    {
     "name": "stdout",
     "output_type": "stream",
     "text": [
      "Average precision-recall score: 0.1923 \n"
     ]
    },
    {
     "data": {
      "image/png": "[encoded data removed]",
      "text/plain": [
       "<Figure size 720x360 with 1 Axes>"
      ]
     },
     "metadata": {
      "needs_background": "light"
     },
     "output_type": "display_data"
    }
   ],
   "source": [
    "pr_auc(real_1,reconst_error)"
   ]
  },
  {
   "cell_type": "markdown",
   "metadata": {},
   "source": [
    "# Latent space + logistric regression"
   ]
  },
  {
   "cell_type": "markdown",
   "metadata": {},
   "source": [
    "### Load latent space"
   ]
  },
  {
   "cell_type": "code",
   "execution_count": 96,
   "metadata": {},
   "outputs": [],
   "source": [
    "# 위에서 학습된 autoencoder 에서 encoder output (latent vector) 확인\n",
    "encoded_ = []\n",
    "target_ = []\n",
    "for data, target in val_loader:\n",
    "        # seq_true = data.to(device)\n",
    "        # seq_true = seq_true.float()\n",
    "        seq_encoded = model.encoder(data)  # seq_true is the test dataset\n",
    "        encoded_.append(seq_encoded)\n",
    "        target_.append(target)"
   ]
  },
  {
   "cell_type": "code",
   "execution_count": 97,
   "metadata": {},
   "outputs": [],
   "source": [
    "encoded_1 = np.array([a.detach().numpy().tolist() for b in encoded_ for a in b])\n",
    "target_1 = np.array([a.detach().numpy().tolist() for b in target_ for a in b])"
   ]
  },
  {
   "cell_type": "code",
   "execution_count": 98,
   "metadata": {},
   "outputs": [
    {
     "name": "stdout",
     "output_type": "stream",
     "text": [
      "(56961, 40)\n",
      "(56961, 1)\n"
     ]
    }
   ],
   "source": [
    "print(encoded_1.shape)\n",
    "print(target_1.shape)"
   ]
  },
  {
   "cell_type": "markdown",
   "metadata": {},
   "source": [
    "### Classification with logistic regression"
   ]
  },
  {
   "cell_type": "code",
   "execution_count": 129,
   "metadata": {},
   "outputs": [
    {
     "data": {
      "text/plain": [
       "SVC()"
      ]
     },
     "execution_count": 129,
     "metadata": {},
     "output_type": "execute_result"
    }
   ],
   "source": [
    "# 위에서 가져온 latent vector 를 통해 분류 모델(logistic regression) 학습\n",
    "\n",
    "from sklearn.linear_model import LogisticRegression\n",
    "from sklearn.svm import SVC\n",
    "# clf = LogisticRegression()\n",
    "clf = SVC(kernel=\"rbf\")\n",
    "clf.fit(encoded_1, target_1.ravel())"
   ]
  },
  {
   "cell_type": "markdown",
   "metadata": {},
   "source": [
    "# test set 평가 : confusion matrix, f1-score, PR-AUC "
   ]
  },
  {
   "cell_type": "code",
   "execution_count": 130,
   "metadata": {},
   "outputs": [],
   "source": [
    "test_encoded_ = []\n",
    "test_target_ = []\n",
    "for data, target in test_loader:\n",
    "    seq_encoded = model.encoder(data)  # seq_true is the test dataset\n",
    "    test_encoded_.append(seq_encoded)\n",
    "    test_target_.append(target)\n",
    "test_encoded_1 = np.array([a.detach().numpy().tolist() for b in test_encoded_ for a in b])\n",
    "test_target_1 = np.array([a.detach().numpy().tolist() for b in test_target_ for a in b])"
   ]
  },
  {
   "cell_type": "code",
   "execution_count": 131,
   "metadata": {},
   "outputs": [],
   "source": [
    "test_y_pred = clf.predict(test_encoded_1)\n",
    "# test_y_prob = clf.predict_proba(test_encoded_1)"
   ]
  },
  {
   "cell_type": "code",
   "execution_count": 132,
   "metadata": {},
   "outputs": [],
   "source": [
    "test_y_prob_1 = [i[1] for i in test_y_prob]\n",
    "# test_y_prob_1"
   ]
  },
  {
   "cell_type": "code",
   "execution_count": 133,
   "metadata": {},
   "outputs": [
    {
     "data": {
      "text/plain": [
       "(56962, 1)"
      ]
     },
     "execution_count": 133,
     "metadata": {},
     "output_type": "execute_result"
    }
   ],
   "source": [
    "test_y_pred.shape\n",
    "test_target_1.shape"
   ]
  },
  {
   "cell_type": "markdown",
   "metadata": {},
   "source": [
    "### confusion matrix"
   ]
  },
  {
   "cell_type": "code",
   "execution_count": 134,
   "metadata": {},
   "outputs": [
    {
     "data": {
      "text/plain": [
       "array([[56885,     2],\n",
       "       [   41,    34]])"
      ]
     },
     "execution_count": 134,
     "metadata": {},
     "output_type": "execute_result"
    }
   ],
   "source": [
    "confusion_matrix(test_target_1,test_y_pred)"
   ]
  },
  {
   "cell_type": "code",
   "execution_count": 135,
   "metadata": {},
   "outputs": [],
   "source": [
    "x_en_test = [i[0] for i in test_encoded_1]\n",
    "y_en_test = [i[1] for i in test_encoded_1]"
   ]
  },
  {
   "cell_type": "markdown",
   "metadata": {},
   "source": [
    "### f1-score"
   ]
  },
  {
   "cell_type": "code",
   "execution_count": 107,
   "metadata": {},
   "outputs": [
    {
     "name": "stdout",
     "output_type": "stream",
     "text": [
      "              precision    recall  f1-score   support\n",
      "\n",
      "         0.0       1.00      1.00      1.00     56887\n",
      "         1.0       0.94      0.45      0.61        75\n",
      "\n",
      "    accuracy                           1.00     56962\n",
      "   macro avg       0.97      0.73      0.81     56962\n",
      "weighted avg       1.00      1.00      1.00     56962\n",
      "\n"
     ]
    }
   ],
   "source": [
    "print(classification_report(test_target_1,test_y_pred))"
   ]
  },
  {
   "cell_type": "markdown",
   "metadata": {},
   "source": [
    "### PR-AUC curve"
   ]
  },
  {
   "cell_type": "code",
   "execution_count": 74,
   "metadata": {},
   "outputs": [
    {
     "name": "stdout",
     "output_type": "stream",
     "text": [
      "Average precision-recall score: 0.7375 \n"
     ]
    },
    {
     "data": {
      "image/png": "[encoded data removed]",
      "text/plain": [
       "<Figure size 720x360 with 1 Axes>"
      ]
     },
     "metadata": {
      "needs_background": "light"
     },
     "output_type": "display_data"
    }
   ],
   "source": [
    "pr_auc(test_target_1,test_y_prob_1)"
   ]
  }
 ],
 "metadata": {
  "interpreter": {
   "hash": "2ce135863f9f1c2cb58d53946c05eea664b2d0dab64ef501f3f7c324b68e8cc0"
  },
  "kernelspec": {
   "display_name": "Python 3 (ipykernel)",
   "language": "python",
   "name": "python3"
  },
  "language_info": {
   "codemirror_mode": {
    "name": "ipython",
    "version": 3
   },
   "file_extension": ".py",
   "mimetype": "text/x-python",
   "name": "python",
   "nbconvert_exporter": "python",
   "pygments_lexer": "ipython3",
   "version": "3.7.12"
  }
 },
 "nbformat": 4,
 "nbformat_minor": 4
}
